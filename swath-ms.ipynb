{
 "cells": [
  {
   "cell_type": "code",
   "execution_count": null,
   "metadata": {},
   "outputs": [
    {
     "name": "stderr",
     "output_type": "stream",
     "text": [
      "R[write to console]: Error: package or namespace load failed for ‘methods’ in dyn.load(file, DLLpath = DLLpath, ...):\n",
      " unable to load shared object '/rds/user/jhz22/hpc-work/R-3.6.2/library/methods/libs/methods.so':\n",
      "  /rds/user/jhz22/hpc-work/R-3.6.2/library/methods/libs/methods.so: undefined symbol: ALTREP_LENGTH\n",
      "\n",
      "R[write to console]: Warning message:\n",
      "\n",
      "R[write to console]: package \"methods\" in options(\"defaultPackages\") was not found \n",
      "\n",
      "R[write to console]: Error: package or namespace load failed for ‘utils’ in dyn.load(file, DLLpath = DLLpath, ...):\n",
      " unable to load shared object '/rds/user/jhz22/hpc-work/R-3.6.2/library/utils/libs/utils.so':\n",
      "  /rds/user/jhz22/hpc-work/R-3.6.2/library/utils/libs/utils.so: undefined symbol: ALTREP_LENGTH\n",
      "\n",
      "R[write to console]: Error: package or namespace load failed for ‘grDevices’ in dyn.load(file, DLLpath = DLLpath, ...):\n",
      " unable to load shared object '/rds/user/jhz22/hpc-work/R-3.6.2/library/grDevices/libs/grDevices.so':\n",
      "  /rds/user/jhz22/hpc-work/R-3.6.2/library/grDevices/libs/grDevices.so: undefined symbol: ALTREP_LENGTH\n",
      "\n",
      "R[write to console]: Error: package or namespace load failed for ‘graphics’ in dyn.load(file, DLLpath = DLLpath, ...):\n",
      " unable to load shared object '/rds/user/jhz22/hpc-work/R-3.6.2/library/grDevices/libs/grDevices.so':\n",
      "  /rds/user/jhz22/hpc-work/R-3.6.2/library/grDevices/libs/grDevices.so: undefined symbol: ALTREP_LENGTH\n",
      "\n",
      "R[write to console]: Error: package or namespace load failed for ‘stats’ in dyn.load(file, DLLpath = DLLpath, ...):\n",
      " unable to load shared object '/rds/user/jhz22/hpc-work/R-3.6.2/library/grDevices/libs/grDevices.so':\n",
      "  /rds/user/jhz22/hpc-work/R-3.6.2/library/grDevices/libs/grDevices.so: undefined symbol: ALTREP_LENGTH\n",
      "\n",
      "R[write to console]: Error: package or namespace load failed for ‘methods’ in dyn.load(file, DLLpath = DLLpath, ...):\n",
      " unable to load shared object '/rds/user/jhz22/hpc-work/R-3.6.2/library/methods/libs/methods.so':\n",
      "  /rds/user/jhz22/hpc-work/R-3.6.2/library/methods/libs/methods.so: undefined symbol: ALTREP_LENGTH\n",
      "\n",
      "R[write to console]: During startup - \n",
      "R[write to console]: Warning messages:\n",
      "\n",
      "R[write to console]: 1: package ‘utils’ in options(\"defaultPackages\") was not found \n",
      "\n",
      "R[write to console]: 2: package ‘grDevices’ in options(\"defaultPackages\") was not found \n",
      "\n",
      "R[write to console]: 3: package ‘graphics’ in options(\"defaultPackages\") was not found \n",
      "\n",
      "R[write to console]: 4: package ‘stats’ in options(\"defaultPackages\") was not found \n",
      "\n",
      "R[write to console]: 5: package ‘methods’ in options(\"defaultPackages\") was not found \n",
      "\n",
      "R[write to console]: Error in dyn.load(file, DLLpath = DLLpath, ...) : \n",
      "  unable to load shared object '/rds/user/jhz22/hpc-work/R-3.6.2/library/methods/libs/methods.so':\n",
      "  /rds/user/jhz22/hpc-work/R-3.6.2/library/methods/libs/methods.so: undefined symbol: ALTREP_LENGTH\n",
      "Calls: <Anonymous> ... getNamespace -> loadNamespace -> library.dynam -> dyn.load\n",
      "\n"
     ]
    },
    {
     "name": "stdout",
     "output_type": "stream",
     "text": [
      "Warning: 'rfunc' cannot be imported. R and the 'rpy2' Python package are needed.\n"
     ]
    },
    {
     "name": "stderr",
     "output_type": "stream",
     "text": [
      "\r",
      "Mapping files:   0%|          | 0/3 [00:00<?, ?it/s]"
     ]
    }
   ],
   "source": [
    "import pandas as pd\n",
    "import numpy as np\n",
    "import tensorqtl\n",
    "from tensorqtl import genotypeio, cis, trans\n",
    "import matplotlib.pyplot as plt\n",
    "\n",
    "# define paths to data\n",
    "plink_prefix_path = 'swath-ms.01'\n",
    "expression_bed = 'swath-ms.expression.bed.gz'\n",
    "covariates_file = 'swath-ms.covariates.txt'\n",
    "prefix = 'swath-ms'\n",
    "\n",
    "# load phenotypes and covariates\n",
    "phenotype_df, phenotype_pos_df = tensorqtl.read_phenotype_bed(expression_bed)\n",
    "covariates_df = pd.read_csv(covariates_file, sep='\\t', index_col=0).T\n",
    "\n",
    "# PLINK reader for genotypes\n",
    "pr = genotypeio.PlinkReader(plink_prefix_path)\n",
    "genotype_df = pr.load_genotypes()\n",
    "variant_df = pr.bim.set_index('snp')[['chrom', 'pos']]"
   ]
  },
  {
   "cell_type": "markdown",
   "metadata": {},
   "source": [
    "### *cis*-QTL: nominal p-values for all variant-phenotype pairs"
   ]
  },
  {
   "cell_type": "code",
   "execution_count": null,
   "metadata": {},
   "outputs": [],
   "source": [
    "# map all cis-associations (results for each chromosome are written to file)\n",
    "\n",
    "# all  genes\n",
    "cis.map_nominal(genotype_df, variant_df, phenotype_df, phenotype_pos_df, covariates_df, prefix)"
   ]
  },
  {
   "cell_type": "markdown",
   "metadata": {},
   "source": [
    "### *cis*-QTL: empirical p-values for phenotypes"
   ]
  },
  {
   "cell_type": "code",
   "execution_count": null,
   "metadata": {
    "scrolled": false
   },
   "outputs": [],
   "source": [
    "# all genes\n",
    "cis_df = cis.map_cis(genotype_df, variant_df, phenotype_df, phenotype_pos_df, covariates_df)"
   ]
  },
  {
   "cell_type": "code",
   "execution_count": null,
   "metadata": {},
   "outputs": [],
   "source": [
    "cis_df.head()"
   ]
  },
  {
   "cell_type": "markdown",
   "metadata": {},
   "source": [
    "### *trans*-QTL mapping"
   ]
  },
  {
   "cell_type": "code",
   "execution_count": null,
   "metadata": {},
   "outputs": [],
   "source": [
    "# run mapping\n",
    "# to limit output size, only associations with p-value <= 1e-5 are returned\n",
    "trans_df = trans.map_trans(genotype_df, phenotype_df, covariates_df, batch_size=20000,\n",
    "                           return_sparse=True, pval_threshold=1e-5, maf_threshold=0.05)"
   ]
  },
  {
   "cell_type": "code",
   "execution_count": null,
   "metadata": {},
   "outputs": [],
   "source": [
    "# remove cis-associations\n",
    "trans_df = trans.filter_cis(trans_df, phenotype_pos_df.T.to_dict(), variant_df, window=5000000)"
   ]
  },
  {
   "cell_type": "code",
   "execution_count": null,
   "metadata": {},
   "outputs": [],
   "source": [
    "trans_df.head()"
   ]
  }
 ],
 "metadata": {
  "kernelspec": {
   "display_name": "Python 3",
   "language": "python",
   "name": "python3"
  },
  "language_info": {
   "codemirror_mode": {
    "name": "ipython",
    "version": 3
   },
   "file_extension": ".py",
   "mimetype": "text/x-python",
   "name": "python",
   "nbconvert_exporter": "python",
   "pygments_lexer": "ipython3",
   "version": "3.6.8"
  }
 },
 "nbformat": 4,
 "nbformat_minor": 2
}
